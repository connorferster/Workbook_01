{
 "cells": [
  {
   "cell_type": "markdown",
   "metadata": {},
   "source": [
    "# Workbook 1 - Your first steps into Python\n",
    "You are going to combine variables with function calls to make images"
   ]
  },
  {
   "cell_type": "code",
   "execution_count": 2,
   "metadata": {},
   "outputs": [],
   "source": [
    "import cs103 as cs"
   ]
  },
  {
   "cell_type": "markdown",
   "metadata": {},
   "source": [
    "## CS103 Built-in functions"
   ]
  },
  {
   "cell_type": "markdown",
   "metadata": {},
   "source": [
    "The **cs103** library is a publicly available collection of functions made specifically for teaching. We will use them in this first workbook just to practice using functions.\n",
    "\n",
    "The cs103 library has the following drawing functions:\n",
    "\n",
    "* `cs.circle()`: Returns a circle\n",
    "* `cs.square()`: Returns a square\n",
    "* `cs.rectangle()`: Returns a rectangle\n",
    "* `cs.triangle()`: Returns a triangle\n",
    "\n",
    "And, the cs103 library has the following layout functions:\n",
    "\n",
    "* `cs.above()`: Places shapes above each other in the order that they are put in to cs.above()\n",
    "* `cs.beside()`: Places shapes beside each other in the order that they are put into cs.beside()\n",
    "* `cs.overlay()`: Places shapes on top of each other (note: if shapes of the same size and shape are overlaid on each other, you will only see the top shape).\n",
    "* `cs.draw()`: Draws your final image\n",
    "\n",
    "## How to use:\n",
    "Each of the above functions require certain \"arguments\" to work. The functions will not work without all arguments being input. \n",
    "\n",
    "For example, `cs.circle()` takes three arguments: `size`, `mode`, and `color` (in that order). You \"call\" the `cs.circle()` function like this: \n",
    "\n",
    "`cs.circle(200, \"outline\", \"blue\")` or like this `cs.circle(42.3, \"solid\", \"black\")`\n",
    "\n",
    "To find out what each function requires (and what each can do), you can call `help()` on them:\n",
    "\n",
    "`help(cs.circle)` or `help(cs.beside)`, for example\n"
   ]
  },
  {
   "cell_type": "code",
   "execution_count": 3,
   "metadata": {},
   "outputs": [],
   "source": [
    "my_circle = cs.circle(150, \"solid\", \"red\")\n",
    "my_square = cs.square(300, \"solid\", \"blue\")"
   ]
  },
  {
   "cell_type": "code",
   "execution_count": null,
   "metadata": {},
   "outputs": [],
   "source": []
  },
  {
   "cell_type": "code",
   "execution_count": null,
   "metadata": {},
   "outputs": [],
   "source": []
  },
  {
   "cell_type": "markdown",
   "metadata": {},
   "source": [
    "## Task 1: Try drawing all the different shapes"
   ]
  },
  {
   "cell_type": "code",
   "execution_count": 107,
   "metadata": {},
   "outputs": [],
   "source": [
    "# Try drawing a circle, a rectangle, a square, and a triangle\n",
    "# Vary the arguments for each so you can see how they can change\n",
    "\n",
    "# Assign each different shape to a variable so you can draw\n",
    "# any one of them without having to re-type the whole command. e.g.\n",
    "\n",
    "# my_circle = cs.circle(200, \"solid\", \"red\")\n",
    "# my_rect = ...\n",
    "\n",
    "# draw(my_circle) <- now you can just draw 'my_circle' instead of typing draw(cs.circle(..., ..., ...))\n",
    "\n",
    "# p.s. Don't forget you can type help() on any of the shapes functions to find out how it works!\n",
    "\n"
   ]
  },
  {
   "cell_type": "markdown",
   "metadata": {},
   "source": [
    "## Task 2: Draw the outline of a blue rectangle surrounding a solid green triangle"
   ]
  },
  {
   "cell_type": "code",
   "execution_count": 4,
   "metadata": {},
   "outputs": [],
   "source": [
    "# See if you can use the shapes functions in combination with the layout functions to accomplish this task.\n",
    "# If you get stuck, type: help(cs.overlay)\n",
    "\n"
   ]
  },
  {
   "cell_type": "markdown",
   "metadata": {},
   "source": [
    "## Task 3: Draw an \"H\" shape"
   ]
  },
  {
   "cell_type": "code",
   "execution_count": 101,
   "metadata": {},
   "outputs": [],
   "source": [
    "# If you get stuck, type: help(cs.beside)\n"
   ]
  },
  {
   "cell_type": "markdown",
   "metadata": {},
   "source": [
    "## Task 4: Draw a 3x3 checkerboard with blue and black squares\n"
   ]
  },
  {
   "cell_type": "code",
   "execution_count": null,
   "metadata": {},
   "outputs": [],
   "source": [
    "# It is easiest to make two variables: blue_square and black_square and then re-use \n",
    "# those when you use your layout functions.\n"
   ]
  },
  {
   "cell_type": "markdown",
   "metadata": {},
   "source": [
    "## Task 5: Draw a 4x4 \"checkerboard\", with three colors instead of two, where you can quickly change the colors to anything you want"
   ]
  },
  {
   "cell_type": "code",
   "execution_count": 80,
   "metadata": {},
   "outputs": [],
   "source": [
    "# This task requires the use variables as arguments, e.g.\n",
    "# color1 = \"blue\"\n",
    "# color2 = \"green\"\n",
    "# color3 = ..."
   ]
  },
  {
   "cell_type": "markdown",
   "metadata": {},
   "source": [
    "## Task 6: Make some fun pattern that is entirely controlled by your variables\n",
    "\n",
    "Assign at least two of your arguments as variables, e.g. color and mode, and make an image using those variables. Then change the image just by changing the variables. The more arguments that you assign to variables, the crazier it can get.\n",
    "\n",
    "Advanced tip: you can get really crazy by making even your functions variables! e.g.\n",
    "\n",
    "```my_tri = cs.triangle(100,50, \"outline\", \"black\")\n",
    "func_1 = cs.beside\n",
    "func_2 = cs.above\n",
    "func_1(my_tri, my_tri, func_2(my_tri, my_tri))\n",
    "```"
   ]
  },
  {
   "cell_type": "code",
   "execution_count": null,
   "metadata": {},
   "outputs": [],
   "source": []
  }
 ],
 "metadata": {
  "kernelspec": {
   "display_name": "Python 3",
   "language": "python",
   "name": "python3"
  },
  "language_info": {
   "codemirror_mode": {
    "name": "ipython",
    "version": 3
   },
   "file_extension": ".py",
   "mimetype": "text/x-python",
   "name": "python",
   "nbconvert_exporter": "python",
   "pygments_lexer": "ipython3",
   "version": "3.7.6"
  }
 },
 "nbformat": 4,
 "nbformat_minor": 4
}
