{
 "cells": [
  {
   "cell_type": "markdown",
   "id": "ef44db09-c4f3-425d-9707-0bd7acdd5343",
   "metadata": {},
   "source": [
    "# 🌉 Workbook 01 - Solving beams with `sympy`\n",
    "\n",
    "^^^ Bridge? Beam? :)\n",
    "\n",
    "Use the \"sympy beams reference.ipynb\" notebook for assistance on how to create `Beam` objects."
   ]
  },
  {
   "cell_type": "code",
   "execution_count": 2,
   "id": "943ef023-348f-4442-9e27-cb05e5c591c8",
   "metadata": {},
   "outputs": [],
   "source": [
    "from sympy.physics.continuum_mechanics.beam import Beam\n",
    "from sympy import symbols"
   ]
  },
  {
   "cell_type": "markdown",
   "id": "43ccd331-ffa6-4631-8896-53fd95db1a21",
   "metadata": {},
   "source": [
    "# Task 01\n",
    "\n",
    "Create a `Beam` object to analyze a beam with the following attributes:\n",
    "* 14 ft long\n",
    "* E, I as symbols\n",
    "* Vertical supports @:\n",
    "    * 2 ft, 8 ft, 11 ft\n",
    "* Loads as follows:\n",
    "    * Point load: 500 lbs, @ 4 ft\n",
    "    * Trapezoidal load: 200 lbs @ 0 ft, 700 lbs @ 14 ft\n",
    "    \n",
    "1. Use `print()` to print the reactions\n",
    "2. Plot the shear and moment diagrams\n",
    "3. Plot the deflection assuming a W12x50"
   ]
  },
  {
   "cell_type": "markdown",
   "id": "45b63840-4ea7-4a24-982c-949cd3a54c21",
   "metadata": {},
   "source": [
    "## Task 01 Response"
   ]
  },
  {
   "cell_type": "code",
   "execution_count": null,
   "id": "4ced4add-19be-438b-bff4-c99b1f0ee200",
   "metadata": {},
   "outputs": [],
   "source": []
  },
  {
   "cell_type": "markdown",
   "id": "800e5fa3-f1a4-4bc1-b6a3-2a7bfcfe61f5",
   "metadata": {},
   "source": [
    "# Task 02\n",
    "\n",
    "Create a `Beam` object to analyze a beam with the following attributes:\n",
    "* 3.6 m long\n",
    "* 45 MPa concrete, 300x600 dp beam\n",
    "* Fixed support @:\n",
    "    * 0 m  \n",
    "* Loads as follows:\n",
    "    * UDL of self-weight\n",
    "    * UDL of 60 kN/m\n",
    "    * Point load of 175 kN @ 2.2 m\n",
    "    \n",
    "1. Use `print()` to print the reactions\n",
    "2. Plot the shear and moment diagrams\n",
    "3. Plot the deflection"
   ]
  },
  {
   "cell_type": "markdown",
   "id": "94d2a2b2-1230-45a4-b17b-a6369970df27",
   "metadata": {},
   "source": [
    "## Task 02 Response"
   ]
  },
  {
   "cell_type": "code",
   "execution_count": null,
   "id": "1be73696-eb35-46a3-9b72-002640294cc6",
   "metadata": {},
   "outputs": [],
   "source": []
  },
  {
   "cell_type": "markdown",
   "id": "dfda4fcd-c568-424e-9900-81bd24f14b7f",
   "metadata": {},
   "source": [
    "# Task 03\n",
    "\n",
    "Create a `Beam` object to analyze a core footing with the following attributes. You are going to assume a trapezoidal reaction load underneath the footing and solve for it.\n",
    "\n",
    "* 70 ft x 40 ft (analyze just the long direction)\n",
    "* 45 MPa concrete, 4 ft deep\n",
    "* Trapezoidal load as _vertical reaction_\n",
    "* Loads as follows:\n",
    "    * Footing self-weight\n",
    "    * 50 kip @ 12 ft\n",
    "    * 60 kip @ 30 ft\n",
    "    * -8000 kip-ft @ 30 ft\n",
    "    * -7500 kip-ft @ 40 ft\n",
    "    * 800 kip @ 40 ft\n",
    "    * 800 kip @ 60 ft    \n",
    "    \n",
    "1. Use `print()` to print the reactions\n",
    "2. Plot the shear and moment diagrams\n",
    "\n",
    "**Note** You won't be able to assign slope or deflection boundary conditions so you will only be able to solve for reactions, shear, and moment."
   ]
  },
  {
   "cell_type": "markdown",
   "id": "1df201c1-b517-41e6-80fb-fe3c7fe3b7ea",
   "metadata": {},
   "source": [
    "## Task 03 Response"
   ]
  },
  {
   "cell_type": "code",
   "execution_count": null,
   "id": "95bd37d4-e131-4673-9fb6-e48e99624da0",
   "metadata": {},
   "outputs": [],
   "source": []
  }
 ],
 "metadata": {
  "kernelspec": {
   "display_name": "Python 3 (ipykernel)",
   "language": "python",
   "name": "python3"
  },
  "language_info": {
   "codemirror_mode": {
    "name": "ipython",
    "version": 3
   },
   "file_extension": ".py",
   "mimetype": "text/x-python",
   "name": "python",
   "nbconvert_exporter": "python",
   "pygments_lexer": "ipython3",
   "version": "3.8.12"
  }
 },
 "nbformat": 4,
 "nbformat_minor": 5
}
